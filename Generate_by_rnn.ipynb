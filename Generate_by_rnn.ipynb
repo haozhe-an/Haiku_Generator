{
 "cells": [
  {
   "cell_type": "code",
   "execution_count": 1,
   "metadata": {},
   "outputs": [
    {
     "name": "stderr",
     "output_type": "stream",
     "text": [
      "Using TensorFlow backend.\n"
     ]
    }
   ],
   "source": [
    "import numpy,sys,time\n",
    "from keras.models import Sequential\n",
    "from keras.layers import Dense\n",
    "from keras.layers import Dropout\n",
    "from keras.layers import LSTM\n",
    "from keras.callbacks import ModelCheckpoint\n",
    "from keras.utils import np_utils\n",
    "import string"
   ]
  },
  {
   "cell_type": "code",
   "execution_count": 2,
   "metadata": {},
   "outputs": [],
   "source": [
    "filename = 'data.tsv'\n",
    "raw_text=open(filename,'r').read().lower()"
   ]
  },
  {
   "cell_type": "code",
   "execution_count": 3,
   "metadata": {},
   "outputs": [],
   "source": [
    "raw_text = raw_text.replace('<br>', ' ')\n",
    "processed_text = raw_text.replace('\\n', ' ')\n",
    "raw_text = ''.join([c for c in raw_text if not c in string.punctuation])\n",
    "processed_text = ''.join([c for c in processed_text if not c in string.punctuation])\n",
    "words=sorted(list(set(processed_text.split(' '))))"
   ]
  },
  {
   "cell_type": "code",
   "execution_count": 4,
   "metadata": {},
   "outputs": [],
   "source": [
    "word_to_int = dict((c,i) for i, c in enumerate(words))"
   ]
  },
  {
   "cell_type": "code",
   "execution_count": null,
   "metadata": {},
   "outputs": [],
   "source": []
  },
  {
   "cell_type": "code",
   "execution_count": 5,
   "metadata": {},
   "outputs": [],
   "source": [
    "n_words = len(processed_text.split(' '))\n",
    "n_vocab = len(words)"
   ]
  },
  {
   "cell_type": "code",
   "execution_count": 6,
   "metadata": {},
   "outputs": [],
   "source": [
    "seq_length = 5\n",
    "lines = raw_text.split('\\n')\n",
    "dataX = []\n",
    "dataY = []\n",
    "for haiku in lines:\n",
    "    haiku_list = haiku.split(' ')\n",
    "    haiku_list = [h for h in haiku_list if h != '']\n",
    "    for i in range(0, len(haiku_list)-1-seq_length):\n",
    "        seq_in=haiku_list[i:i+seq_length]\n",
    "        seq_out=haiku_list[i+seq_length]\n",
    "        dataX.append([word_to_int[w] for w in seq_in])\n",
    "        dataY.append(word_to_int[seq_out])"
   ]
  },
  {
   "cell_type": "code",
   "execution_count": 7,
   "metadata": {},
   "outputs": [],
   "source": [
    "n_patterns = len(dataX)\n",
    "X = numpy.reshape(dataX, (n_patterns, seq_length, 1))\n",
    "X = X/float(n_vocab)\n",
    "y = np_utils.to_categorical(dataY)"
   ]
  },
  {
   "cell_type": "code",
   "execution_count": 8,
   "metadata": {},
   "outputs": [
    {
     "data": {
      "text/plain": [
       "array([[0.1666285 ],\n",
       "       [0.99564939],\n",
       "       [0.79744459],\n",
       "       [0.4493268 ],\n",
       "       [0.60194175]])"
      ]
     },
     "execution_count": 8,
     "metadata": {},
     "output_type": "execute_result"
    }
   ],
   "source": [
    "X[0]"
   ]
  },
  {
   "cell_type": "code",
   "execution_count": 10,
   "metadata": {},
   "outputs": [
    {
     "name": "stdout",
     "output_type": "stream",
     "text": [
      "0.16662850338889906\n",
      "0.9956493863344935\n",
      "0.7974445869206814\n",
      "0.44932679978017953\n",
      "0.6019417475728155\n"
     ]
    }
   ],
   "source": [
    "print(word_to_int['cant']/n_vocab)\n",
    "print(word_to_int['you']/n_vocab)\n",
    "print(word_to_int['see']/n_vocab)\n",
    "print(word_to_int['how']/n_vocab)\n",
    "print(word_to_int['much']/n_vocab)"
   ]
  },
  {
   "cell_type": "code",
   "execution_count": 13,
   "metadata": {},
   "outputs": [],
   "source": [
    "model = Sequential()\n",
    "# model.add(LSTM(256, input_shape=(X.shape[1], X.shape[2]),return_sequences=True))\n",
    "# model.add(Dropout(0.2))\n",
    "# model.add(LSTM(256,input_shape=(X.shape[1], X.shape[2]),return_sequences=True))\n",
    "# model.add(Dropout(0.2))\n",
    "# model.add(LSTM(256,input_shape=(X.shape[1], X.shape[2]),return_sequences=True))\n",
    "# model.add(Dropout(0.2))\n",
    "model.add(LSTM(256))\n",
    "model.add(Dropout(0.2))\n",
    "model.add(Dense(y.shape[1], activation='softmax'))\n",
    "model.compile(loss='categorical_crossentropy', optimizer='adam')"
   ]
  },
  {
   "cell_type": "code",
   "execution_count": 14,
   "metadata": {},
   "outputs": [
    {
     "name": "stdout",
     "output_type": "stream",
     "text": [
      "Epoch 1/1\n",
      "2441616/2441616 [==============================] - 623s 255us/step - loss: 6.7844\n"
     ]
    },
    {
     "data": {
      "text/plain": [
       "<keras.callbacks.History at 0x7fe71d8bfa90>"
      ]
     },
     "execution_count": 14,
     "metadata": {},
     "output_type": "execute_result"
    }
   ],
   "source": [
    "model.fit(X, y, epochs=1, batch_size=2000)"
   ]
  },
  {
   "cell_type": "code",
   "execution_count": null,
   "metadata": {},
   "outputs": [],
   "source": [
    "int_to_word=dict((i,c) for i,c in enumerate(words))"
   ]
  },
  {
   "cell_type": "code",
   "execution_count": null,
   "metadata": {},
   "outputs": [],
   "source": [
    "numpy.random.seed(int(time.time()))\n",
    "start = numpy.random.randint(0, len(dataX)-1)\n",
    "pattern = dataX[start]\n",
    "print('pattern is', pattern)\n",
    "\n",
    "sys.stdout.write(\"Generated Haiku: \")\n",
    "generated=' '.join([int_to_word[value] for value in pattern])\n",
    "for i in range(10):\n",
    "    x = numpy.reshape(pattern, (1, len(pattern), 1))\n",
    "    x = x / float(n_vocab)\n",
    "    prediction = model.predict(x, verbose=0)\n",
    "    index = numpy.argmax(prediction)\n",
    "    result = ' ' + int_to_word[index] \n",
    "    #seq_in = [int_to_word[value] for value in pattern]\n",
    "    #sys.stdout.write(result)\n",
    "    generated+=result\n",
    "    pattern.append(index)\n",
    "    pattern = pattern[1:len(pattern)]\n",
    "sys.stdout.write(\"%s\\n\"%generated)"
   ]
  },
  {
   "cell_type": "code",
   "execution_count": null,
   "metadata": {},
   "outputs": [],
   "source": []
  },
  {
   "cell_type": "code",
   "execution_count": null,
   "metadata": {},
   "outputs": [],
   "source": []
  },
  {
   "cell_type": "code",
   "execution_count": null,
   "metadata": {},
   "outputs": [],
   "source": []
  }
 ],
 "metadata": {
  "kernelspec": {
   "display_name": "Python 3",
   "language": "python",
   "name": "python3"
  },
  "language_info": {
   "codemirror_mode": {
    "name": "ipython",
    "version": 3
   },
   "file_extension": ".py",
   "mimetype": "text/x-python",
   "name": "python",
   "nbconvert_exporter": "python",
   "pygments_lexer": "ipython3",
   "version": "3.6.6"
  }
 },
 "nbformat": 4,
 "nbformat_minor": 2
}
